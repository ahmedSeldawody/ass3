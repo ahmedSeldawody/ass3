{
 "cells": [
  {
   "cell_type": "markdown",
   "id": "cf6d747e-51d4-44f7-9e10-00923b33eca4",
   "metadata": {},
   "source": [
    "## assim 3"
   ]
  },
  {
   "cell_type": "code",
   "execution_count": null,
   "id": "5842df20-3a66-41cf-8ba6-58e07c8347b8",
   "metadata": {},
   "outputs": [],
   "source": []
  },
  {
   "cell_type": "code",
   "execution_count": 5,
   "id": "87a94e21-bc7f-43e0-91cd-6bd167563ec8",
   "metadata": {},
   "outputs": [
    {
     "name": "stdout",
     "output_type": "stream",
     "text": [
      "Test whether none of the elements of a given array in zero: True\n",
      "Test whether none of the elements of a given array in zero: False\n"
     ]
    }
   ],
   "source": [
    "##1\n",
    "import numpy as np\n",
    "x = np.array([1,2,3,4])\n",
    "print(\"Test whether none of the elements of a given array in zero:\",np.all(x))\n",
    "y = np.array([1, 0, 1, 0])\n",
    "print(\"Test whether none of the elements of a given array in zero:\",np.all(y))\n",
    "\n"
   ]
  },
  {
   "cell_type": "code",
   "execution_count": null,
   "id": "f6d7ae83-3bb6-4f13-bce2-70df17b85ec7",
   "metadata": {},
   "outputs": [],
   "source": []
  },
  {
   "cell_type": "code",
   "execution_count": 7,
   "id": "3cbd9dc9-402e-42ef-a651-63c2db07a0df",
   "metadata": {},
   "outputs": [
    {
     "name": "stdout",
     "output_type": "stream",
     "text": [
      "Test whether any of the elements of a given array is zero: True\n",
      "Test whether any of the elements of a given array is zero: False\n"
     ]
    }
   ],
   "source": [
    "##2\n",
    "import numpy as np\n",
    "x = np.array([1,2,3,4])\n",
    "print(\"Test whether any of the elements of a given array is zero:\",np.any(x))\n",
    "y = np.array([0, 0, 0, 0])\n",
    "print(\"Test whether any of the elements of a given array is zero:\",np.any(y))\n",
    "\n"
   ]
  },
  {
   "cell_type": "code",
   "execution_count": null,
   "id": "999f06c3-8676-4e7d-9c3b-7e7b66009928",
   "metadata": {},
   "outputs": [],
   "source": []
  },
  {
   "cell_type": "code",
   "execution_count": 15,
   "id": "8b94075e-bad0-4692-8e38-c578ec120dad",
   "metadata": {},
   "outputs": [
    {
     "name": "stdout",
     "output_type": "stream",
     "text": [
      "Original numbers: \n",
      " [4 5 3] [2 1 3]\n",
      "Comparison_greater: [False False  True]\n",
      "Comparison - greater_equal: [ True  True  True]\n",
      "Comparison - less_equal: [False False  True]\n"
     ]
    }
   ],
   "source": [
    "##3\n",
    "import numpy as np\n",
    "x = np.array([4,5,3])\n",
    "y = np.array([2,1,3])\n",
    "print(\"Original numbers:\",'\\n',x,y)\n",
    "print(\"Comparison_greater:\",np.equal(x, y))\n",
    "print(\"Comparison - greater_equal:\",np.greater_equal(x, y))\n",
    "print(\"Comparison - less_equal:\",np.less_equal(x, y))"
   ]
  },
  {
   "cell_type": "code",
   "execution_count": null,
   "id": "270ff652-a672-4547-ae4e-fffb7ebc9ebb",
   "metadata": {},
   "outputs": [],
   "source": []
  },
  {
   "cell_type": "code",
   "execution_count": 9,
   "id": "b16826a0-c940-4064-9532-b7f0cce14d46",
   "metadata": {},
   "outputs": [
    {
     "name": "stdout",
     "output_type": "stream",
     "text": [
      "An array of 10 zeros: [0. 0. 0. 0. 0. 0. 0. 0. 0. 0.]\n",
      "An array of 10 ones: [1. 1. 1. 1. 1. 1. 1. 1. 1. 1.]\n",
      "An array of 10 fives: [5. 5. 5. 5. 5. 5. 5. 5. 5. 5.]\n"
     ]
    }
   ],
   "source": [
    "##4\n",
    "import numpy as np\n",
    "array=np.zeros(10)\n",
    "print(\"An array of 10 zeros:\",array)\n",
    "array=np.ones(10)\n",
    "print(\"An array of 10 ones:\",array)\n",
    "array=np.ones(10)*5\n",
    "print(\"An array of 10 fives:\",array)\n"
   ]
  },
  {
   "cell_type": "code",
   "execution_count": null,
   "id": "879b4c64-7032-4569-83bb-a16085e09349",
   "metadata": {},
   "outputs": [],
   "source": []
  },
  {
   "cell_type": "code",
   "execution_count": 18,
   "id": "d56f2340-d598-463c-9947-439c924f5588",
   "metadata": {},
   "outputs": [
    {
     "name": "stdout",
     "output_type": "stream",
     "text": [
      "Array of the integers from 30 to70: \n",
      " [30 31 32 33 34 35 36 37 38 39 40 41 42 43 44 45 46 47 48 49 50 51 52 53\n",
      " 54 55 56 57 58 59 60 61 62 63 64 65 66 67 68 69 70]\n"
     ]
    }
   ],
   "source": [
    "##5\n",
    "import numpy as np\n",
    "array=np.arange(30,71)\n",
    "print(\"Array of the integers from 30 to70:\",'\\n',array)\n"
   ]
  },
  {
   "cell_type": "code",
   "execution_count": null,
   "id": "d636ae0d-cc86-4fe8-b6db-1ebfff6b9e1e",
   "metadata": {},
   "outputs": [],
   "source": []
  },
  {
   "cell_type": "code",
   "execution_count": 28,
   "id": "df744030-8458-4c59-8f92-35c29239f736",
   "metadata": {},
   "outputs": [
    {
     "name": "stdout",
     "output_type": "stream",
     "text": [
      "3x3 matrix: \n",
      " [[1. 0. 0.]\n",
      " [0. 1. 0.]\n",
      " [0. 0. 1.]]\n"
     ]
    }
   ],
   "source": [
    "##6\n",
    "import numpy as np\n",
    "array=np.identity(3)\n",
    "print(\"3x3 matrix:\",'\\n',array)\n"
   ]
  },
  {
   "cell_type": "code",
   "execution_count": null,
   "id": "df08358a-9f74-4165-bbdd-eb1c50337845",
   "metadata": {},
   "outputs": [],
   "source": []
  },
  {
   "cell_type": "code",
   "execution_count": 30,
   "id": "0b5621c3-55ce-44f2-b560-035ce127593c",
   "metadata": {},
   "outputs": [
    {
     "name": "stdout",
     "output_type": "stream",
     "text": [
      "Random number between 0 and 1: \n",
      " [1.36748807]\n"
     ]
    }
   ],
   "source": [
    "##7\n",
    "import numpy as np\n",
    "random_number=np.random.normal(0,1,1)\n",
    "print(\"Random number between 0 and 1:\",'\\n',random_number)\n"
   ]
  },
  {
   "cell_type": "code",
   "execution_count": null,
   "id": "ac69de9f-8864-4526-8738-1d253093e4a7",
   "metadata": {},
   "outputs": [],
   "source": []
  },
  {
   "cell_type": "code",
   "execution_count": 34,
   "id": "444d671c-58c8-4b17-afc3-189a01395815",
   "metadata": {},
   "outputs": [
    {
     "name": "stdout",
     "output_type": "stream",
     "text": [
      "Random numbers from a standard normal distribution to 15: \n",
      " [ 0.30628372 -0.15921458  0.55315497 -0.55441239  0.30138134 -0.85531548\n",
      " -1.01848636  1.4141918   1.95128889 -0.43740235 -2.22124953 -0.69761195\n",
      " -0.02822925  0.16354536  1.55296616]\n"
     ]
    }
   ],
   "source": [
    "##8\n",
    "import numpy as np\n",
    "random_number=np.random.normal(0,1,15)\n",
    "print(\"Random numbers from a standard normal distribution to 15:\",'\\n',random_number)"
   ]
  },
  {
   "cell_type": "code",
   "execution_count": null,
   "id": "5842018b-b50b-45d0-a853-8a3e5d03e26a",
   "metadata": {},
   "outputs": [],
   "source": []
  },
  {
   "cell_type": "code",
   "execution_count": 37,
   "id": "3e35e9f4-8f1a-48bc-8c33-da1ca9a5769a",
   "metadata": {},
   "outputs": [
    {
     "name": "stdout",
     "output_type": "stream",
     "text": [
      "Original vector: \n",
      " [15 16 17 18 19 20 21 22 23 24 25 26 27 28 29 30 31 32 33 34 35 36 37 38\n",
      " 39 40 41 42 43 44 45 46 47 48 49 50 51 52 53 54]\n",
      "All values except the first and last of the said vector: \n",
      " [16 17 18 19 20 21 22 23 24 25 26 27 28 29 30 31 32 33 34 35 36 37 38 39\n",
      " 40 41 42 43 44 45 46 47 48 49 50 51 52 53]\n"
     ]
    }
   ],
   "source": [
    "##9\n",
    "import numpy as np\n",
    "v = np.arange(15,55)\n",
    "print(\"Original vector:\",'\\n',v)\n",
    "print(\"All values except the first and last of the said vector:\",'\\n',v[1:-1])"
   ]
  },
  {
   "cell_type": "code",
   "execution_count": null,
   "id": "5a1a66d7-27da-441e-85b8-3e5a78e504b3",
   "metadata": {},
   "outputs": [],
   "source": []
  },
  {
   "cell_type": "code",
   "execution_count": 40,
   "id": "a8205269-3f9e-4473-89f6-98b69e4d5436",
   "metadata": {},
   "outputs": [
    {
     "name": "stdout",
     "output_type": "stream",
     "text": [
      "Vector of length 5 filled with arbitrary integers from 0 to 10: \n",
      " [10  8  2  9  9]\n"
     ]
    }
   ],
   "source": [
    "##10\n",
    "import numpy as np\n",
    "x = np.random.randint(0, 11, 5)\n",
    "print(\"Vector of length 5 filled with arbitrary integers from 0 to 10:\",\"\\n\",x)\n"
   ]
  },
  {
   "cell_type": "code",
   "execution_count": null,
   "id": "26503cc9-be54-4c77-bc0e-a2fe2dc31785",
   "metadata": {},
   "outputs": [],
   "source": []
  },
  {
   "cell_type": "code",
   "execution_count": 45,
   "id": "2ea8c819-c90f-464c-9b86-961bca9ba344",
   "metadata": {},
   "outputs": [
    {
     "data": {
      "text/plain": [
       "array([[1., 1., 1., 1., 1., 1., 1., 1., 1., 1.],\n",
       "       [1., 0., 0., 0., 0., 0., 0., 0., 0., 1.],\n",
       "       [1., 0., 0., 0., 0., 0., 0., 0., 0., 1.],\n",
       "       [1., 0., 0., 0., 0., 0., 0., 0., 0., 1.],\n",
       "       [1., 0., 0., 0., 0., 0., 0., 0., 0., 1.],\n",
       "       [1., 0., 0., 0., 0., 0., 0., 0., 0., 1.],\n",
       "       [1., 0., 0., 0., 0., 0., 0., 0., 0., 1.],\n",
       "       [1., 0., 0., 0., 0., 0., 0., 0., 0., 1.],\n",
       "       [1., 0., 0., 0., 0., 0., 0., 0., 0., 1.],\n",
       "       [1., 1., 1., 1., 1., 1., 1., 1., 1., 1.]])"
      ]
     },
     "execution_count": 45,
     "metadata": {},
     "output_type": "execute_result"
    }
   ],
   "source": [
    "##11\n",
    "import numpy as np\n",
    "x = np.ones((10, 10))\n",
    "x[1:-1, 1:-1] = 0\n",
    "x"
   ]
  },
  {
   "cell_type": "code",
   "execution_count": null,
   "id": "0957e4ec-0365-4f55-8f2d-e21e5e946631",
   "metadata": {},
   "outputs": [],
   "source": []
  },
  {
   "cell_type": "code",
   "execution_count": 47,
   "id": "15336d50-17aa-4a2c-a58d-5fccf967deef",
   "metadata": {},
   "outputs": [
    {
     "name": "stdout",
     "output_type": "stream",
     "text": [
      "[[1 0 0 0 0]\n",
      " [0 3 0 0 0]\n",
      " [0 0 5 0 0]\n",
      " [0 0 0 7 0]\n",
      " [0 0 0 0 9]]\n"
     ]
    }
   ],
   "source": [
    "##12\n",
    "import numpy as np\n",
    "x = np.diag([1,3,5,7,9])\n",
    "print(x)"
   ]
  },
  {
   "cell_type": "code",
   "execution_count": null,
   "id": "f37e6364-ba87-4844-b19b-2e0d6a1b9876",
   "metadata": {},
   "outputs": [],
   "source": []
  },
  {
   "cell_type": "code",
   "execution_count": 49,
   "id": "bb5c71fa-fbee-4ab7-846b-dacb62612791",
   "metadata": {},
   "outputs": [
    {
     "name": "stdout",
     "output_type": "stream",
     "text": [
      "[[0. 1. 0. 1.]\n",
      " [1. 0. 1. 0.]\n",
      " [0. 1. 0. 1.]\n",
      " [1. 0. 1. 0.]]\n"
     ]
    }
   ],
   "source": [
    "##13\n",
    "import numpy as np\n",
    "x = np.zeros((4, 4))\n",
    "x[::2,1::2] = 1\n",
    "x[1::2,::2] = 1\n",
    "print(x)"
   ]
  },
  {
   "cell_type": "code",
   "execution_count": null,
   "id": "23313412-4c5e-4546-bd33-91a9319af151",
   "metadata": {},
   "outputs": [],
   "source": []
  },
  {
   "cell_type": "code",
   "execution_count": 54,
   "id": "2161e1b3-5c38-46f7-b3cc-8760dc0cb3b9",
   "metadata": {},
   "outputs": [
    {
     "name": "stdout",
     "output_type": "stream",
     "text": [
      "Original arrays: \n",
      " [0 1 2 3 4 5 6 7 8 9] \n",
      " [11 12 13 14 15 16 17 18 19]\n",
      "Load arrays from the 'temp_arra.npz' file:\n",
      "[0 1 2 3 4 5 6 7 8 9]\n",
      "[11 12 13 14 15 16 17 18 19]\n"
     ]
    }
   ],
   "source": [
    "##14\n",
    "import numpy as np\n",
    "import os\n",
    "x = np.arange(10)\n",
    "y = np.arange(11, 20)\n",
    "print(\"Original arrays:\",'\\n',x,'\\n',y)\n",
    "np.savez('temp_arra.npz', x=x, y=y)\n",
    "print(\"Load arrays from the 'temp_arra.npz' file:\")\n",
    "with np.load('temp_arra.npz') as data:\n",
    "    x2 = data['x']\n",
    "    y2 = data['y']\n",
    "    print(x2)\n",
    "    print(y2)"
   ]
  },
  {
   "cell_type": "code",
   "execution_count": null,
   "id": "b3bae475-6713-483f-a86b-ab136553e78c",
   "metadata": {},
   "outputs": [],
   "source": []
  },
  {
   "cell_type": "code",
   "execution_count": 61,
   "id": "e48902e9-35c9-4c32-9676-e9bb49dc5ac6",
   "metadata": {},
   "outputs": [
    {
     "name": "stdout",
     "output_type": "stream",
     "text": [
      "[0.77132064 0.02075195 0.63364823 0.74880388 0.49850701 0.22479665\n",
      " 0.19806286 0.76053071 0.16911084 0.08833981 0.68535982 0.95339335\n",
      " 0.00394827 0.51219226 0.81262096 0.61252607 0.72175532 0.29187607\n",
      " 0.91777412 0.71457578 0.54254437 0.14217005 0.37334076 0.67413362\n",
      " 0.44183317 0.43401399 0.61776698 0.51313824 0.65039718 0.60103895]\n"
     ]
    }
   ],
   "source": [
    "import numpy as np  \n",
    "np.random.seed(10)\n",
    "print(np.random.rand(30))"
   ]
  },
  {
   "cell_type": "code",
   "execution_count": null,
   "id": "09212c9f-0f6b-4d78-a305-4427b89a6f06",
   "metadata": {},
   "outputs": [],
   "source": []
  },
  {
   "cell_type": "code",
   "execution_count": null,
   "id": "2ef92acd-e728-4664-b4f7-0cfafcd75bb0",
   "metadata": {},
   "outputs": [],
   "source": []
  },
  {
   "cell_type": "code",
   "execution_count": null,
   "id": "ad8ea808-e1f7-400e-af69-63f618d56674",
   "metadata": {},
   "outputs": [],
   "source": []
  },
  {
   "cell_type": "code",
   "execution_count": 59,
   "id": "2e27ae94-ede4-471a-a60f-a42afc82c3bd",
   "metadata": {},
   "outputs": [
    {
     "name": "stdout",
     "output_type": "stream",
     "text": [
      "Original array: \n",
      " [[ 1  3  7]\n",
      " [35 43 69]\n",
      " [ 4 39  9]]\n",
      "\n",
      "Elements of the said array greater than 5\n",
      "[ 7 35 43 69 39  9]\n",
      "\n",
      "Elements of the said array less than 6\n",
      "[1 3 4]\n"
     ]
    }
   ],
   "source": [
    "##16\n",
    "import numpy as np  \n",
    "nums = np.array([[1,3, 7],[35, 43, 69],[4, 39, 9]])\n",
    "print(\"Original array:\",'\\n',nums)\n",
    "n = 5\n",
    "print(\"\\nElements of the said array greater than\",n)\n",
    "print(nums[nums > n])\n",
    "n = 6\n",
    "print(\"\\nElements of the said array less than\",n)\n",
    "print(nums[nums < n])"
   ]
  },
  {
   "cell_type": "code",
   "execution_count": null,
   "id": "baf5de1c-4cc1-45f3-a5a9-657ac70bdfff",
   "metadata": {},
   "outputs": [],
   "source": []
  },
  {
   "cell_type": "code",
   "execution_count": null,
   "id": "a242ed32-a2b7-43ca-b758-2807739a748f",
   "metadata": {},
   "outputs": [],
   "source": []
  },
  {
   "cell_type": "code",
   "execution_count": null,
   "id": "78f48c4f-4543-4823-86c6-e87310e8475d",
   "metadata": {},
   "outputs": [],
   "source": []
  },
  {
   "cell_type": "code",
   "execution_count": null,
   "id": "6b03159b-6609-4122-b7be-d1be198e4363",
   "metadata": {},
   "outputs": [],
   "source": []
  }
 ],
 "metadata": {
  "kernelspec": {
   "display_name": "Python 3 (ipykernel)",
   "language": "python",
   "name": "python3"
  },
  "language_info": {
   "codemirror_mode": {
    "name": "ipython",
    "version": 3
   },
   "file_extension": ".py",
   "mimetype": "text/x-python",
   "name": "python",
   "nbconvert_exporter": "python",
   "pygments_lexer": "ipython3",
   "version": "3.9.13"
  }
 },
 "nbformat": 4,
 "nbformat_minor": 5
}
